{
 "cells": [
  {
   "cell_type": "code",
   "execution_count": null,
   "metadata": {},
   "outputs": [],
   "source": [
    "#i \"your path to\\Microsoft.DotNet.Interactive.nteract.nuget\\bin\\Debug\""
   ]
  },
  {
   "cell_type": "code",
   "execution_count": null,
   "metadata": {},
   "outputs": [],
   "source": [
    "#r \"nuget:Microsoft.DotNet.Interactive.nteract\""
   ]
  },
  {
   "cell_type": "code",
   "execution_count": null,
   "metadata": {},
   "outputs": [],
   "source": [
    "using Microsoft.DotNet.Interactive.nteract;"
   ]
  },
  {
   "cell_type": "code",
   "execution_count": null,
   "metadata": {},
   "outputs": [],
   "source": [
    " var data = new[]\n",
    "            {\n",
    "                new { valueA = 3, valueB = 5, valueC = 1, label = \"first\", isGood = false },\n",
    "                new { valueA = 10, valueB = 1, valueC = 12, label = \"second\", isGood = true },\n",
    "                new { valueA = 10, valueB = 1, valueC = 12, label = \"fifth\", isGood = true },\n",
    "                new { valueA = 10, valueB = 1, valueC = 12, label = \"sixth\", isGood = true },\n",
    "                new { valueA = 10, valueB = 1, valueC = 12, label = \"seventh\", isGood = true },\n",
    "                new { valueA = -5, valueB = 8, valueC = 6, label = \"third\", isGood = true },\n",
    "                new { valueA = -50, valueB = 8, valueC = 6, label = \"third\", isGood = true }\n",
    "            };"
   ]
  },
  {
   "cell_type": "code",
   "execution_count": null,
   "metadata": {},
   "outputs": [],
   "source": [
    "data.Explore()"
   ]
  }
 ],
 "metadata": {
  "kernelspec": {
   "display_name": ".NET (C#)",
   "language": "C#",
   "name": ".net-csharp"
  },
  "language_info": {
   "file_extension": ".cs",
   "mimetype": "text/x-csharp",
   "name": "C#",
   "pygments_lexer": "csharp",
   "version": "8.0"
  }
 },
 "nbformat": 4,
 "nbformat_minor": 4
}
